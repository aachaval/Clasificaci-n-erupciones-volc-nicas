{
 "cells": [
  {
   "cell_type": "markdown",
   "id": "f87f059f",
   "metadata": {},
   "source": [
    "## Clasificación de erupciones volcánicas: Random Forest Classifier"
   ]
  },
  {
   "cell_type": "markdown",
   "id": "92ce168b",
   "metadata": {},
   "source": [
    "Para resolver el caso empezamos importando las librerías de pyhton necesarias para el tratamiento de los datos:"
   ]
  },
  {
   "cell_type": "code",
   "execution_count": 1,
   "id": "da333b2f",
   "metadata": {},
   "outputs": [],
   "source": [
    "import pandas as pd\n",
    "import numpy as np\n",
    "import matplotlib.pyplot as plt\n",
    "import seaborn as sns\n",
    "plt.style.use('fivethirtyeight')"
   ]
  },
  {
   "cell_type": "markdown",
   "id": "8709fb92",
   "metadata": {},
   "source": [
    "A continuación cargamos los datos desde el archivo jm_train.csv que descargamos del sitio web de NUWE:"
   ]
  },
  {
   "cell_type": "code",
   "execution_count": 2,
   "id": "00583be9",
   "metadata": {},
   "outputs": [
    {
     "data": {
      "text/html": [
       "<div>\n",
       "<style scoped>\n",
       "    .dataframe tbody tr th:only-of-type {\n",
       "        vertical-align: middle;\n",
       "    }\n",
       "\n",
       "    .dataframe tbody tr th {\n",
       "        vertical-align: top;\n",
       "    }\n",
       "\n",
       "    .dataframe thead th {\n",
       "        text-align: right;\n",
       "    }\n",
       "</style>\n",
       "<table border=\"1\" class=\"dataframe\">\n",
       "  <thead>\n",
       "    <tr style=\"text-align: right;\">\n",
       "      <th></th>\n",
       "      <th>feature1</th>\n",
       "      <th>feature2</th>\n",
       "      <th>feature3</th>\n",
       "      <th>feature4</th>\n",
       "      <th>feature5</th>\n",
       "      <th>feature6</th>\n",
       "      <th>target</th>\n",
       "    </tr>\n",
       "  </thead>\n",
       "  <tbody>\n",
       "    <tr>\n",
       "      <th>374</th>\n",
       "      <td>1.632028</td>\n",
       "      <td>0.379189</td>\n",
       "      <td>0.653156</td>\n",
       "      <td>-0.432931</td>\n",
       "      <td>0.798642</td>\n",
       "      <td>0.528039</td>\n",
       "      <td>4</td>\n",
       "    </tr>\n",
       "    <tr>\n",
       "      <th>1831</th>\n",
       "      <td>-0.950817</td>\n",
       "      <td>1.826780</td>\n",
       "      <td>1.079688</td>\n",
       "      <td>0.982139</td>\n",
       "      <td>0.965271</td>\n",
       "      <td>0.280789</td>\n",
       "      <td>3</td>\n",
       "    </tr>\n",
       "    <tr>\n",
       "      <th>1729</th>\n",
       "      <td>-0.280237</td>\n",
       "      <td>-0.574079</td>\n",
       "      <td>0.343444</td>\n",
       "      <td>0.279612</td>\n",
       "      <td>0.047335</td>\n",
       "      <td>0.430280</td>\n",
       "      <td>3</td>\n",
       "    </tr>\n",
       "    <tr>\n",
       "      <th>1077</th>\n",
       "      <td>0.762876</td>\n",
       "      <td>-1.250818</td>\n",
       "      <td>-0.265368</td>\n",
       "      <td>-0.524067</td>\n",
       "      <td>-0.318830</td>\n",
       "      <td>0.191176</td>\n",
       "      <td>4</td>\n",
       "    </tr>\n",
       "    <tr>\n",
       "      <th>658</th>\n",
       "      <td>-1.591520</td>\n",
       "      <td>1.839367</td>\n",
       "      <td>1.451675</td>\n",
       "      <td>0.816453</td>\n",
       "      <td>1.370762</td>\n",
       "      <td>0.269947</td>\n",
       "      <td>3</td>\n",
       "    </tr>\n",
       "    <tr>\n",
       "      <th>817</th>\n",
       "      <td>0.003428</td>\n",
       "      <td>-1.180619</td>\n",
       "      <td>-1.776693</td>\n",
       "      <td>1.147069</td>\n",
       "      <td>-2.287533</td>\n",
       "      <td>-0.252131</td>\n",
       "      <td>2</td>\n",
       "    </tr>\n",
       "    <tr>\n",
       "      <th>1252</th>\n",
       "      <td>-0.959668</td>\n",
       "      <td>4.416567</td>\n",
       "      <td>1.901456</td>\n",
       "      <td>0.206116</td>\n",
       "      <td>2.609892</td>\n",
       "      <td>-0.325623</td>\n",
       "      <td>3</td>\n",
       "    </tr>\n",
       "    <tr>\n",
       "      <th>574</th>\n",
       "      <td>-0.946205</td>\n",
       "      <td>1.804720</td>\n",
       "      <td>-1.097666</td>\n",
       "      <td>-2.330333</td>\n",
       "      <td>0.484816</td>\n",
       "      <td>-2.450131</td>\n",
       "      <td>0</td>\n",
       "    </tr>\n",
       "    <tr>\n",
       "      <th>1306</th>\n",
       "      <td>-2.314010</td>\n",
       "      <td>2.418052</td>\n",
       "      <td>-0.474754</td>\n",
       "      <td>-0.977939</td>\n",
       "      <td>0.623891</td>\n",
       "      <td>-2.035774</td>\n",
       "      <td>2</td>\n",
       "    </tr>\n",
       "    <tr>\n",
       "      <th>200</th>\n",
       "      <td>-1.089726</td>\n",
       "      <td>0.194067</td>\n",
       "      <td>1.327640</td>\n",
       "      <td>-2.685586</td>\n",
       "      <td>2.339076</td>\n",
       "      <td>-0.657338</td>\n",
       "      <td>4</td>\n",
       "    </tr>\n",
       "  </tbody>\n",
       "</table>\n",
       "</div>"
      ],
      "text/plain": [
       "      feature1  feature2  feature3  feature4  feature5  feature6  target\n",
       "374   1.632028  0.379189  0.653156 -0.432931  0.798642  0.528039       4\n",
       "1831 -0.950817  1.826780  1.079688  0.982139  0.965271  0.280789       3\n",
       "1729 -0.280237 -0.574079  0.343444  0.279612  0.047335  0.430280       3\n",
       "1077  0.762876 -1.250818 -0.265368 -0.524067 -0.318830  0.191176       4\n",
       "658  -1.591520  1.839367  1.451675  0.816453  1.370762  0.269947       3\n",
       "817   0.003428 -1.180619 -1.776693  1.147069 -2.287533 -0.252131       2\n",
       "1252 -0.959668  4.416567  1.901456  0.206116  2.609892 -0.325623       3\n",
       "574  -0.946205  1.804720 -1.097666 -2.330333  0.484816 -2.450131       0\n",
       "1306 -2.314010  2.418052 -0.474754 -0.977939  0.623891 -2.035774       2\n",
       "200  -1.089726  0.194067  1.327640 -2.685586  2.339076 -0.657338       4"
      ]
     },
     "execution_count": 2,
     "metadata": {},
     "output_type": "execute_result"
    }
   ],
   "source": [
    "erupciones = pd.read_csv('jm_train.csv')\n",
    "erupciones.sample(n=10, random_state=7) # muestra aleatoria de 10 filas"
   ]
  },
  {
   "cell_type": "markdown",
   "id": "dca91024",
   "metadata": {},
   "source": [
    "### Análisis descriptivo de los datos"
   ]
  },
  {
   "cell_type": "code",
   "execution_count": 3,
   "id": "34f19718",
   "metadata": {},
   "outputs": [
    {
     "data": {
      "text/html": [
       "<div>\n",
       "<style scoped>\n",
       "    .dataframe tbody tr th:only-of-type {\n",
       "        vertical-align: middle;\n",
       "    }\n",
       "\n",
       "    .dataframe tbody tr th {\n",
       "        vertical-align: top;\n",
       "    }\n",
       "\n",
       "    .dataframe thead th {\n",
       "        text-align: right;\n",
       "    }\n",
       "</style>\n",
       "<table border=\"1\" class=\"dataframe\">\n",
       "  <thead>\n",
       "    <tr style=\"text-align: right;\">\n",
       "      <th></th>\n",
       "      <th>count</th>\n",
       "      <th>mean</th>\n",
       "      <th>std</th>\n",
       "      <th>min</th>\n",
       "      <th>25%</th>\n",
       "      <th>50%</th>\n",
       "      <th>75%</th>\n",
       "      <th>max</th>\n",
       "    </tr>\n",
       "  </thead>\n",
       "  <tbody>\n",
       "    <tr>\n",
       "      <th>feature1</th>\n",
       "      <td>2100.0</td>\n",
       "      <td>-0.204656</td>\n",
       "      <td>1.543613</td>\n",
       "      <td>-6.683655</td>\n",
       "      <td>-1.171340</td>\n",
       "      <td>-0.443868</td>\n",
       "      <td>0.890023</td>\n",
       "      <td>4.565547</td>\n",
       "    </tr>\n",
       "    <tr>\n",
       "      <th>feature2</th>\n",
       "      <td>2100.0</td>\n",
       "      <td>0.199249</td>\n",
       "      <td>1.614024</td>\n",
       "      <td>-5.383371</td>\n",
       "      <td>-0.877386</td>\n",
       "      <td>0.320507</td>\n",
       "      <td>1.321430</td>\n",
       "      <td>6.700133</td>\n",
       "    </tr>\n",
       "    <tr>\n",
       "      <th>feature3</th>\n",
       "      <td>2100.0</td>\n",
       "      <td>-0.378140</td>\n",
       "      <td>1.450548</td>\n",
       "      <td>-6.147055</td>\n",
       "      <td>-1.365990</td>\n",
       "      <td>-0.439745</td>\n",
       "      <td>0.662898</td>\n",
       "      <td>4.157518</td>\n",
       "    </tr>\n",
       "    <tr>\n",
       "      <th>feature4</th>\n",
       "      <td>2100.0</td>\n",
       "      <td>-0.206425</td>\n",
       "      <td>1.442225</td>\n",
       "      <td>-5.653594</td>\n",
       "      <td>-1.259403</td>\n",
       "      <td>-0.176504</td>\n",
       "      <td>0.866879</td>\n",
       "      <td>4.371912</td>\n",
       "    </tr>\n",
       "    <tr>\n",
       "      <th>feature5</th>\n",
       "      <td>2100.0</td>\n",
       "      <td>-0.186419</td>\n",
       "      <td>1.501573</td>\n",
       "      <td>-5.912521</td>\n",
       "      <td>-1.211685</td>\n",
       "      <td>-0.195751</td>\n",
       "      <td>0.851843</td>\n",
       "      <td>5.068783</td>\n",
       "    </tr>\n",
       "    <tr>\n",
       "      <th>feature6</th>\n",
       "      <td>2100.0</td>\n",
       "      <td>-0.433229</td>\n",
       "      <td>1.188791</td>\n",
       "      <td>-4.433189</td>\n",
       "      <td>-1.131944</td>\n",
       "      <td>-0.406754</td>\n",
       "      <td>0.348593</td>\n",
       "      <td>4.016324</td>\n",
       "    </tr>\n",
       "    <tr>\n",
       "      <th>target</th>\n",
       "      <td>2100.0</td>\n",
       "      <td>1.980476</td>\n",
       "      <td>1.410537</td>\n",
       "      <td>0.000000</td>\n",
       "      <td>1.000000</td>\n",
       "      <td>2.000000</td>\n",
       "      <td>3.000000</td>\n",
       "      <td>4.000000</td>\n",
       "    </tr>\n",
       "  </tbody>\n",
       "</table>\n",
       "</div>"
      ],
      "text/plain": [
       "           count      mean       std       min       25%       50%       75%  \\\n",
       "feature1  2100.0 -0.204656  1.543613 -6.683655 -1.171340 -0.443868  0.890023   \n",
       "feature2  2100.0  0.199249  1.614024 -5.383371 -0.877386  0.320507  1.321430   \n",
       "feature3  2100.0 -0.378140  1.450548 -6.147055 -1.365990 -0.439745  0.662898   \n",
       "feature4  2100.0 -0.206425  1.442225 -5.653594 -1.259403 -0.176504  0.866879   \n",
       "feature5  2100.0 -0.186419  1.501573 -5.912521 -1.211685 -0.195751  0.851843   \n",
       "feature6  2100.0 -0.433229  1.188791 -4.433189 -1.131944 -0.406754  0.348593   \n",
       "target    2100.0  1.980476  1.410537  0.000000  1.000000  2.000000  3.000000   \n",
       "\n",
       "               max  \n",
       "feature1  4.565547  \n",
       "feature2  6.700133  \n",
       "feature3  4.157518  \n",
       "feature4  4.371912  \n",
       "feature5  5.068783  \n",
       "feature6  4.016324  \n",
       "target    4.000000  "
      ]
     },
     "execution_count": 3,
     "metadata": {},
     "output_type": "execute_result"
    }
   ],
   "source": [
    "erupciones.describe().T"
   ]
  },
  {
   "cell_type": "code",
   "execution_count": 4,
   "id": "1f827c23",
   "metadata": {},
   "outputs": [
    {
     "name": "stdout",
     "output_type": "stream",
     "text": [
      "<class 'pandas.core.frame.DataFrame'>\n",
      "RangeIndex: 2100 entries, 0 to 2099\n",
      "Data columns (total 7 columns):\n",
      " #   Column    Non-Null Count  Dtype  \n",
      "---  ------    --------------  -----  \n",
      " 0   feature1  2100 non-null   float64\n",
      " 1   feature2  2100 non-null   float64\n",
      " 2   feature3  2100 non-null   float64\n",
      " 3   feature4  2100 non-null   float64\n",
      " 4   feature5  2100 non-null   float64\n",
      " 5   feature6  2100 non-null   float64\n",
      " 6   target    2100 non-null   int64  \n",
      "dtypes: float64(6), int64(1)\n",
      "memory usage: 115.0 KB\n"
     ]
    }
   ],
   "source": [
    "erupciones.info()"
   ]
  },
  {
   "cell_type": "code",
   "execution_count": 5,
   "id": "d1e1021b",
   "metadata": {},
   "outputs": [
    {
     "name": "stdout",
     "output_type": "stream",
     "text": [
      "Numero de NaNs: 0\n"
     ]
    }
   ],
   "source": [
    "print(f'Numero de NaNs: {erupciones.isnull().sum().sum()}')"
   ]
  },
  {
   "cell_type": "code",
   "execution_count": 6,
   "id": "7784b5d8",
   "metadata": {},
   "outputs": [
    {
     "name": "stdout",
     "output_type": "stream",
     "text": [
      "Numero de filas duplicadas: 0\n"
     ]
    }
   ],
   "source": [
    "print(f'Numero de filas duplicadas: {erupciones.duplicated().sum()}')"
   ]
  },
  {
   "cell_type": "markdown",
   "id": "43057502",
   "metadata": {},
   "source": [
    "Hay 6 variables numéricas  independientes o features que corresponden a las lecturas de cada sensor, y una variable dependiente o target que clasifica el tipo  de erupción en función de estas lecturas.\n",
    "\n",
    "Los valores de los features estan en la misma escala, en el rango (-7; 7) aprox por lo que no haría falta escalar. Tienen media y desvio estandar similares.\n",
    "\n",
    "Los datos parecen estar bastante \"limpios y ordenados\", no hay NaN's ni filas duplicadas en las 2100 filas que tiene el dataset.\n",
    "\n",
    "Con respecto a la variable target:"
   ]
  },
  {
   "cell_type": "code",
   "execution_count": 7,
   "id": "13b21aa0",
   "metadata": {},
   "outputs": [
    {
     "data": {
      "image/png": "[encoded data removed]",
      "text/plain": [
       "<Figure size 720x360 with 1 Axes>"
      ]
     },
     "metadata": {},
     "output_type": "display_data"
    }
   ],
   "source": [
    "plt.figure(figsize = (10,5))\n",
    "ax = sns.countplot(data=erupciones, x='target', order=erupciones.target.value_counts().index)\n",
    "for p in ax.patches:\n",
    "        percentage = '{:.1f}%'.format(100 * p.get_height()/len(erupciones))\n",
    "        x = p.get_x() + p.get_width() / 2 - 0.05\n",
    "        y = p.get_y() + p.get_height()\n",
    "        plt.annotate(percentage, (x, y),ha='center')\n",
    "plt.show()"
   ]
  },
  {
   "cell_type": "code",
   "execution_count": 8,
   "id": "af81030a",
   "metadata": {},
   "outputs": [
    {
     "data": {
      "text/plain": [
       "0    20.333333\n",
       "3    20.285714\n",
       "1    20.142857\n",
       "2    19.952381\n",
       "4    19.285714\n",
       "Name: target, dtype: float64"
      ]
     },
     "execution_count": 8,
     "metadata": {},
     "output_type": "execute_result"
    }
   ],
   "source": [
    "erupciones.target.value_counts()*100/erupciones.target.value_counts().sum()"
   ]
  },
  {
   "cell_type": "markdown",
   "id": "86d8d145",
   "metadata": {},
   "source": [
    "La variable target esta equilibrada entre las distintas clases, tenemos un ~20% de cada uno de los casos.\n",
    "\n",
    "Separaremos en un dataframe la variable target del resto de los features y analizaremos como se comportan unos y otros:"
   ]
  },
  {
   "cell_type": "code",
   "execution_count": 9,
   "id": "2339f333",
   "metadata": {},
   "outputs": [],
   "source": [
    "x = erupciones.drop(['target'], axis='columns')\n",
    "y = pd.DataFrame(erupciones.target)"
   ]
  },
  {
   "cell_type": "code",
   "execution_count": 10,
   "id": "1d1806dd",
   "metadata": {},
   "outputs": [
    {
     "data": {
      "image/png": "[encoded data removed]",
      "text/plain": [
       "<Figure size 864x720 with 6 Axes>"
      ]
     },
     "metadata": {},
     "output_type": "display_data"
    }
   ],
   "source": [
    "x.hist(bins=40, figsize=(12, 10))\n",
    "plt.show()"
   ]
  },
  {
   "cell_type": "markdown",
   "id": "21a4fb57",
   "metadata": {},
   "source": [
    "Como habiamos dicho previamente, las variables independientes tienen su valor medio en 0 y parecen seguir una distribución normal."
   ]
  },
  {
   "cell_type": "code",
   "execution_count": 11,
   "id": "b78c86aa",
   "metadata": {},
   "outputs": [
    {
     "data": {
      "image/png": "[encoded data removed]",
      "text/plain": [
       "<Figure size 864x720 with 1 Axes>"
      ]
     },
     "metadata": {},
     "output_type": "display_data"
    }
   ],
   "source": [
    "plt.figure(figsize = (12,10))\n",
    "x.boxplot()\n",
    "plt.show()"
   ]
  },
  {
   "cell_type": "markdown",
   "id": "a9bd5058",
   "metadata": {},
   "source": [
    "No parece que haya un problema de outliers o valores atipicos ya que interpreto que son valores posibles de lectura de los sensores (true outliers)."
   ]
  },
  {
   "cell_type": "markdown",
   "id": "81f87fb1",
   "metadata": {},
   "source": [
    "Veamos a continuación como se correlacionan las variables entre si:"
   ]
  },
  {
   "cell_type": "code",
   "execution_count": 12,
   "id": "e3ecdc57",
   "metadata": {},
   "outputs": [
    {
     "data": {
      "image/png": "[encoded data removed]",
      "text/plain": [
       "<Figure size 864x648 with 2 Axes>"
      ]
     },
     "metadata": {},
     "output_type": "display_data"
    }
   ],
   "source": [
    "erupciones_corr = erupciones.corr()\n",
    "\n",
    "mask = np.triu(np.ones_like(erupciones_corr, dtype = bool)) # mask the upper triangle, easier to read\n",
    "fig, ax = plt.subplots(figsize = (12, 9))\n",
    "\n",
    "sns.heatmap(erupciones_corr, mask = mask, cmap = 'flare', annot = True, annot_kws = {\"size\": 10})\n",
    "\n",
    "for t in ax.texts:\n",
    "    if float(t.get_text()) >= 0.25: # if the value is greater than 0.1 then I set the text \n",
    "        t.set_text(t.get_text()) \n",
    "    elif float(t.get_text()) <= -0.25: # if the value is smaller than -0.1 then I set the text \n",
    "        t.set_text(t.get_text())\n",
    "    else:\n",
    "        t.set_text(\"\") # if not it sets an empty text\n",
    "\n",
    "plt.title('Matriz de Correlación', fontsize = 20)\n",
    "plt.show()"
   ]
  },
  {
   "cell_type": "markdown",
   "id": "d35bdd26",
   "metadata": {},
   "source": [
    "El feature1 es el que presenta mayor correlación lineal de Pearson con el target, con un 0,47 positivo. De todas maneras se puede considerar correlación media-baja. \n",
    "\n",
    "Por otro lado el feature3 presenta una correlación media positiva con el feature6 y media-alta positiva con el feature5 lo cual nos podría llegar a dar problemas de multicolinealidad o sobre ajuste."
   ]
  },
  {
   "cell_type": "markdown",
   "id": "1000247f",
   "metadata": {},
   "source": [
    "### Modelizado de los datos"
   ]
  },
  {
   "cell_type": "markdown",
   "id": "382f5041",
   "metadata": {},
   "source": [
    "Primero dividimos la muestra entre datos para entrenamiento y datos para evaluación y obtención de metricas de performance del modelo:"
   ]
  },
  {
   "cell_type": "code",
   "execution_count": 13,
   "id": "9aa06953",
   "metadata": {},
   "outputs": [],
   "source": [
    "from sklearn.model_selection import train_test_split\n",
    "\n",
    "x_train, x_test, y_train, y_test = train_test_split(x, y, test_size=0.25, random_state=7)  # 80%-20% proportion"
   ]
  },
  {
   "cell_type": "code",
   "execution_count": 14,
   "id": "1aa8332e",
   "metadata": {},
   "outputs": [
    {
     "data": {
      "text/plain": [
       "((1575, 6), (525, 6), (1575, 1), (525, 1))"
      ]
     },
     "execution_count": 14,
     "metadata": {},
     "output_type": "execute_result"
    }
   ],
   "source": [
    "x_train.shape, x_test.shape, y_train.shape, y_test.shape"
   ]
  },
  {
   "cell_type": "markdown",
   "id": "2bd09c86",
   "metadata": {},
   "source": [
    "Utilizamos el algoritmo de Random Forest Classifier para multiclases con los parametros por defecto:"
   ]
  },
  {
   "cell_type": "code",
   "execution_count": 15,
   "id": "7247f440",
   "metadata": {},
   "outputs": [],
   "source": [
    "from sklearn.ensemble import RandomForestClassifier\n",
    "\n",
    "#instantiate RandomForestClassifier()\n",
    "model = RandomForestClassifier(random_state=7)\n",
    "\n",
    "\n",
    "#fit the classification\n",
    "model.fit(x_train, np.ravel(y_train))\n",
    "\n",
    "#Predict on test\n",
    "y_pred = model.predict(x_test)"
   ]
  },
  {
   "cell_type": "markdown",
   "id": "7f899c3b",
   "metadata": {},
   "source": [
    "Matriz de confusión"
   ]
  },
  {
   "cell_type": "code",
   "execution_count": 16,
   "id": "92070cb1",
   "metadata": {},
   "outputs": [
    {
     "data": {
      "image/png": "[encoded data removed]",
      "text/plain": [
       "<Figure size 720x576 with 2 Axes>"
      ]
     },
     "metadata": {},
     "output_type": "display_data"
    }
   ],
   "source": [
    "from sklearn.metrics import ConfusionMatrixDisplay, confusion_matrix\n",
    "\n",
    "# Plot the confusion matrix\n",
    "fig, ax = plt.subplots(figsize=(10, 8))\n",
    "# Create the matrix\n",
    "cm = confusion_matrix(y_test, y_pred)\n",
    "cmp = ConfusionMatrixDisplay(cm)\n",
    "cmp.plot(ax=ax)\n",
    "\n",
    "plt.show()"
   ]
  },
  {
   "cell_type": "code",
   "execution_count": 17,
   "id": "33212cf1",
   "metadata": {},
   "outputs": [
    {
     "name": "stdout",
     "output_type": "stream",
     "text": [
      "              precision    recall  f1-score   support\n",
      "\n",
      "           0       0.83      0.75      0.79       117\n",
      "           1       0.69      0.78      0.73        97\n",
      "           2       0.62      0.62      0.62       104\n",
      "           3       0.73      0.72      0.72       103\n",
      "           4       0.77      0.76      0.76       104\n",
      "\n",
      "    accuracy                           0.73       525\n",
      "   macro avg       0.73      0.73      0.73       525\n",
      "weighted avg       0.73      0.73      0.73       525\n",
      "\n"
     ]
    }
   ],
   "source": [
    "from sklearn.metrics import accuracy_score,f1_score,classification_report\n",
    "\n",
    "print(classification_report(y_test,y_pred))"
   ]
  },
  {
   "cell_type": "code",
   "execution_count": 18,
   "id": "9a3d316e",
   "metadata": {},
   "outputs": [
    {
     "data": {
      "text/plain": [
       "0.73"
      ]
     },
     "execution_count": 18,
     "metadata": {},
     "output_type": "execute_result"
    }
   ],
   "source": [
    "round(f1_score(y_test, y_pred, average='macro'),2)"
   ]
  },
  {
   "cell_type": "markdown",
   "id": "499af401",
   "metadata": {},
   "source": [
    "El modelo arroja un f1_score (macro) de 0,73 lo cual no esta mal. Veremos si podemos obtener mejores metricas ajustando los parámetros:"
   ]
  },
  {
   "cell_type": "code",
   "execution_count": 19,
   "id": "9ace6d5e",
   "metadata": {},
   "outputs": [],
   "source": [
    "from sklearn.metrics import f1_score, make_scorer\n",
    "\n",
    "f1 = make_scorer(f1_score , average='macro') # metrica a optimizar"
   ]
  },
  {
   "cell_type": "code",
   "execution_count": 20,
   "id": "50236337",
   "metadata": {
    "scrolled": true
   },
   "outputs": [
    {
     "data": {
      "text/html": [
       "<style>#sk-container-id-1 {color: black;background-color: white;}#sk-container-id-1 pre{padding: 0;}#sk-container-id-1 div.sk-toggleable {background-color: white;}#sk-container-id-1 label.sk-toggleable__label {cursor: pointer;display: block;width: 100%;margin-bottom: 0;padding: 0.3em;box-sizing: border-box;text-align: center;}#sk-container-id-1 label.sk-toggleable__label-arrow:before {content: \"▸\";float: left;margin-right: 0.25em;color: #696969;}#sk-container-id-1 label.sk-toggleable__label-arrow:hover:before {color: black;}#sk-container-id-1 div.sk-estimator:hover label.sk-toggleable__label-arrow:before {color: black;}#sk-container-id-1 div.sk-toggleable__content {max-height: 0;max-width: 0;overflow: hidden;text-align: left;background-color: #f0f8ff;}#sk-container-id-1 div.sk-toggleable__content pre {margin: 0.2em;color: black;border-radius: 0.25em;background-color: #f0f8ff;}#sk-container-id-1 input.sk-toggleable__control:checked~div.sk-toggleable__content {max-height: 200px;max-width: 100%;overflow: auto;}#sk-container-id-1 input.sk-toggleable__control:checked~label.sk-toggleable__label-arrow:before {content: \"▾\";}#sk-container-id-1 div.sk-estimator input.sk-toggleable__control:checked~label.sk-toggleable__label {background-color: #d4ebff;}#sk-container-id-1 div.sk-label input.sk-toggleable__control:checked~label.sk-toggleable__label {background-color: #d4ebff;}#sk-container-id-1 input.sk-hidden--visually {border: 0;clip: rect(1px 1px 1px 1px);clip: rect(1px, 1px, 1px, 1px);height: 1px;margin: -1px;overflow: hidden;padding: 0;position: absolute;width: 1px;}#sk-container-id-1 div.sk-estimator {font-family: monospace;background-color: #f0f8ff;border: 1px dotted black;border-radius: 0.25em;box-sizing: border-box;margin-bottom: 0.5em;}#sk-container-id-1 div.sk-estimator:hover {background-color: #d4ebff;}#sk-container-id-1 div.sk-parallel-item::after {content: \"\";width: 100%;border-bottom: 1px solid gray;flex-grow: 1;}#sk-container-id-1 div.sk-label:hover label.sk-toggleable__label {background-color: #d4ebff;}#sk-container-id-1 div.sk-serial::before {content: \"\";position: absolute;border-left: 1px solid gray;box-sizing: border-box;top: 0;bottom: 0;left: 50%;z-index: 0;}#sk-container-id-1 div.sk-serial {display: flex;flex-direction: column;align-items: center;background-color: white;padding-right: 0.2em;padding-left: 0.2em;position: relative;}#sk-container-id-1 div.sk-item {position: relative;z-index: 1;}#sk-container-id-1 div.sk-parallel {display: flex;align-items: stretch;justify-content: center;background-color: white;position: relative;}#sk-container-id-1 div.sk-item::before, #sk-container-id-1 div.sk-parallel-item::before {content: \"\";position: absolute;border-left: 1px solid gray;box-sizing: border-box;top: 0;bottom: 0;left: 50%;z-index: -1;}#sk-container-id-1 div.sk-parallel-item {display: flex;flex-direction: column;z-index: 1;position: relative;background-color: white;}#sk-container-id-1 div.sk-parallel-item:first-child::after {align-self: flex-end;width: 50%;}#sk-container-id-1 div.sk-parallel-item:last-child::after {align-self: flex-start;width: 50%;}#sk-container-id-1 div.sk-parallel-item:only-child::after {width: 0;}#sk-container-id-1 div.sk-dashed-wrapped {border: 1px dashed gray;margin: 0 0.4em 0.5em 0.4em;box-sizing: border-box;padding-bottom: 0.4em;background-color: white;}#sk-container-id-1 div.sk-label label {font-family: monospace;font-weight: bold;display: inline-block;line-height: 1.2em;}#sk-container-id-1 div.sk-label-container {text-align: center;}#sk-container-id-1 div.sk-container {/* jupyter's `normalize.less` sets `[hidden] { display: none; }` but bootstrap.min.css set `[hidden] { display: none !important; }` so we also need the `!important` here to be able to override the default hidden behavior on the sphinx rendered scikit-learn.org. See: https://github.com/scikit-learn/scikit-learn/issues/21755 */display: inline-block !important;position: relative;}#sk-container-id-1 div.sk-text-repr-fallback {display: none;}</style><div id=\"sk-container-id-1\" class=\"sk-top-container\"><div class=\"sk-text-repr-fallback\"><pre>GridSearchCV(cv=5, estimator=RandomForestClassifier(random_state=7),\n",
       "             param_grid={&#x27;bootstrap&#x27;: [True, False],\n",
       "                         &#x27;criterion&#x27;: [&#x27;entropy&#x27;, &#x27;gini&#x27;],\n",
       "                         &#x27;max_depth&#x27;: [None, 10, 30],\n",
       "                         &#x27;min_samples_leaf&#x27;: [1, 10, 20],\n",
       "                         &#x27;min_samples_split&#x27;: [2, 5, 10],\n",
       "                         &#x27;n_estimators&#x27;: [100, 300, 500]},\n",
       "             scoring=make_scorer(f1_score, average=macro))</pre><b>In a Jupyter environment, please rerun this cell to show the HTML representation or trust the notebook. <br />On GitHub, the HTML representation is unable to render, please try loading this page with nbviewer.org.</b></div><div class=\"sk-container\" hidden><div class=\"sk-item sk-dashed-wrapped\"><div class=\"sk-label-container\"><div class=\"sk-label sk-toggleable\"><input class=\"sk-toggleable__control sk-hidden--visually\" id=\"sk-estimator-id-1\" type=\"checkbox\" ><label for=\"sk-estimator-id-1\" class=\"sk-toggleable__label sk-toggleable__label-arrow\">GridSearchCV</label><div class=\"sk-toggleable__content\"><pre>GridSearchCV(cv=5, estimator=RandomForestClassifier(random_state=7),\n",
       "             param_grid={&#x27;bootstrap&#x27;: [True, False],\n",
       "                         &#x27;criterion&#x27;: [&#x27;entropy&#x27;, &#x27;gini&#x27;],\n",
       "                         &#x27;max_depth&#x27;: [None, 10, 30],\n",
       "                         &#x27;min_samples_leaf&#x27;: [1, 10, 20],\n",
       "                         &#x27;min_samples_split&#x27;: [2, 5, 10],\n",
       "                         &#x27;n_estimators&#x27;: [100, 300, 500]},\n",
       "             scoring=make_scorer(f1_score, average=macro))</pre></div></div></div><div class=\"sk-parallel\"><div class=\"sk-parallel-item\"><div class=\"sk-item\"><div class=\"sk-label-container\"><div class=\"sk-label sk-toggleable\"><input class=\"sk-toggleable__control sk-hidden--visually\" id=\"sk-estimator-id-2\" type=\"checkbox\" ><label for=\"sk-estimator-id-2\" class=\"sk-toggleable__label sk-toggleable__label-arrow\">estimator: RandomForestClassifier</label><div class=\"sk-toggleable__content\"><pre>RandomForestClassifier(random_state=7)</pre></div></div></div><div class=\"sk-serial\"><div class=\"sk-item\"><div class=\"sk-estimator sk-toggleable\"><input class=\"sk-toggleable__control sk-hidden--visually\" id=\"sk-estimator-id-3\" type=\"checkbox\" ><label for=\"sk-estimator-id-3\" class=\"sk-toggleable__label sk-toggleable__label-arrow\">RandomForestClassifier</label><div class=\"sk-toggleable__content\"><pre>RandomForestClassifier(random_state=7)</pre></div></div></div></div></div></div></div></div></div></div>"
      ],
      "text/plain": [
       "GridSearchCV(cv=5, estimator=RandomForestClassifier(random_state=7),\n",
       "             param_grid={'bootstrap': [True, False],\n",
       "                         'criterion': ['entropy', 'gini'],\n",
       "                         'max_depth': [None, 10, 30],\n",
       "                         'min_samples_leaf': [1, 10, 20],\n",
       "                         'min_samples_split': [2, 5, 10],\n",
       "                         'n_estimators': [100, 300, 500]},\n",
       "             scoring=make_scorer(f1_score, average=macro))"
      ]
     },
     "execution_count": 20,
     "metadata": {},
     "output_type": "execute_result"
    }
   ],
   "source": [
    "from sklearn.model_selection import GridSearchCV\n",
    "\n",
    "# Parameters combination (Random Forest)\n",
    "parameters = {\"n_estimators\": [100, 300, 500], \"min_samples_leaf\": [1, 10, 20], 'max_depth': [None, 10, 30], \n",
    "              \"min_samples_split\": [2, 5, 10], \"criterion\":[\"entropy\",\"gini\"], \"bootstrap\": [True, False]}\n",
    "\n",
    "# create and instantiate grid search\n",
    "grid = GridSearchCV(model, parameters, cv=5, scoring=f1) # 5 splits cross validation\n",
    "\n",
    "#fit the model\n",
    "grid.fit(x_train, np.ravel(y_train))"
   ]
  },
  {
   "cell_type": "code",
   "execution_count": 21,
   "id": "beb02929",
   "metadata": {
    "scrolled": true
   },
   "outputs": [
    {
     "name": "stdout",
     "output_type": "stream",
     "text": [
      "Best parameters combination: {'bootstrap': True, 'criterion': 'gini', 'max_depth': 10, 'min_samples_leaf': 1, 'min_samples_split': 2, 'n_estimators': 300}\n"
     ]
    }
   ],
   "source": [
    "print(f'Best parameters combination: {grid.best_params_}')"
   ]
  },
  {
   "cell_type": "code",
   "execution_count": 22,
   "id": "74940803",
   "metadata": {},
   "outputs": [],
   "source": [
    "#instantiate RandomForestClassifier()\n",
    "model2 = RandomForestClassifier(n_estimators=300, max_depth=10, min_samples_leaf=1, min_samples_split=2, \n",
    "                                bootstrap=True, criterion='gini')\n",
    "\n",
    "#fit the classification\n",
    "model2.fit(x_train, np.ravel(y_train))\n",
    "\n",
    "#Predict on test\n",
    "y_pred2 = model2.predict(x_test)"
   ]
  },
  {
   "cell_type": "code",
   "execution_count": 23,
   "id": "fb16fc23",
   "metadata": {},
   "outputs": [
    {
     "name": "stdout",
     "output_type": "stream",
     "text": [
      "              precision    recall  f1-score   support\n",
      "\n",
      "           0       0.83      0.74      0.78       117\n",
      "           1       0.69      0.77      0.73        97\n",
      "           2       0.65      0.64      0.65       104\n",
      "           3       0.75      0.75      0.75       103\n",
      "           4       0.78      0.81      0.79       104\n",
      "\n",
      "    accuracy                           0.74       525\n",
      "   macro avg       0.74      0.74      0.74       525\n",
      "weighted avg       0.74      0.74      0.74       525\n",
      "\n"
     ]
    }
   ],
   "source": [
    "print(classification_report(y_test,y_pred2))"
   ]
  },
  {
   "cell_type": "code",
   "execution_count": 24,
   "id": "8c4ed53c",
   "metadata": {},
   "outputs": [
    {
     "data": {
      "text/plain": [
       "0.74"
      ]
     },
     "execution_count": 24,
     "metadata": {},
     "output_type": "execute_result"
    }
   ],
   "source": [
    "round(f1_score(y_test, y_pred2, average='macro'),2)"
   ]
  },
  {
   "cell_type": "markdown",
   "id": "54540164",
   "metadata": {},
   "source": [
    "Hemos obtenido 0,74 en el f1_score por lo tanto el ajuste de parametros ha reportado una leve mejoría.\n",
    "\n",
    "Hare una prueba ahora aplicando algunas tecnicas de ingeniería de variables:"
   ]
  },
  {
   "cell_type": "code",
   "execution_count": 25,
   "id": "3b14cf1a",
   "metadata": {},
   "outputs": [],
   "source": [
    "erupciones1 = erupciones # hago una copia para no modificar el dataframe original"
   ]
  },
  {
   "cell_type": "markdown",
   "id": "87c9bef3",
   "metadata": {},
   "source": [
    "Eliminamos los outliers:"
   ]
  },
  {
   "cell_type": "code",
   "execution_count": 26,
   "id": "50c007b1",
   "metadata": {},
   "outputs": [],
   "source": [
    "from collections import Counter\n",
    "\n",
    "#drop the label \n",
    "outlier_list = ['feature1', 'feature2', 'feature3', 'feature4', 'feature5', 'feature6'] \n",
    "\n",
    "def detect_outlier(df,feature):\n",
    "    \n",
    "    outlier_indices = []\n",
    "    \n",
    "    for f in feature:\n",
    "        \n",
    "        #lower quartile\n",
    "        q1 = np.percentile(df[f],25)\n",
    "        \n",
    "        #upper quartile\n",
    "        q3 = np.percentile(df[f],75)\n",
    "        \n",
    "        #interquartile range\n",
    "        iqr = q3-q1\n",
    "        \n",
    "        #with coefficient\n",
    "        with_coef = 1.5*iqr\n",
    "        \n",
    "        #detect outlier(s)\n",
    "        lower_rule = q1-with_coef\n",
    "        upper_rule = q3+with_coef\n",
    "        \n",
    "        outlier_variable = df[(df[f]<lower_rule) | (df[f]>upper_rule)].index\n",
    "        outlier_indices.extend(outlier_variable)\n",
    "    \n",
    "    #converting to amount\n",
    "    outlier_indices = Counter(outlier_indices)\n",
    "    multiple_outliers = list(i for i,v in outlier_indices.items() if v>2)\n",
    "    \n",
    "    return multiple_outliers\n",
    "\n",
    " \n",
    "#drop outliers\n",
    "erupciones1 = erupciones1.drop(detect_outlier(erupciones1, outlier_list), axis=0).reset_index(drop=True)"
   ]
  },
  {
   "cell_type": "code",
   "execution_count": 27,
   "id": "9e3d79c5",
   "metadata": {},
   "outputs": [
    {
     "data": {
      "text/plain": [
       "(2098, 7)"
      ]
     },
     "execution_count": 27,
     "metadata": {},
     "output_type": "execute_result"
    }
   ],
   "source": [
    "erupciones1.shape"
   ]
  },
  {
   "cell_type": "markdown",
   "id": "da209aba",
   "metadata": {},
   "source": [
    "Solo se han eliminado 2 filas. Ahora normalizaremos las variables y luego haremos relaciones polinomicas:"
   ]
  },
  {
   "cell_type": "code",
   "execution_count": 28,
   "id": "957377e6",
   "metadata": {},
   "outputs": [],
   "source": [
    "x1 = erupciones1.drop(['target'], axis='columns')\n",
    "y1 = pd.DataFrame(erupciones1.target)"
   ]
  },
  {
   "cell_type": "code",
   "execution_count": 29,
   "id": "bff49861",
   "metadata": {},
   "outputs": [
    {
     "data": {
      "text/plain": [
       "(2098, 210)"
      ]
     },
     "execution_count": 29,
     "metadata": {},
     "output_type": "execute_result"
    }
   ],
   "source": [
    "from sklearn.preprocessing import PolynomialFeatures\n",
    "\n",
    "poly = PolynomialFeatures(degree=4)\n",
    "x1 = poly.fit_transform(x1)\n",
    "x1 = pd.DataFrame(data=x1)\n",
    "\n",
    "x1.shape"
   ]
  },
  {
   "cell_type": "code",
   "execution_count": 30,
   "id": "c95a3a5f",
   "metadata": {},
   "outputs": [],
   "source": [
    "from sklearn.preprocessing import MinMaxScaler\n",
    "\n",
    "x1= pd.DataFrame(MinMaxScaler().fit_transform(x1))"
   ]
  },
  {
   "cell_type": "code",
   "execution_count": 31,
   "id": "85003d17",
   "metadata": {},
   "outputs": [],
   "source": [
    "# from sklearn.decomposition import PCA\n",
    "\n",
    "# pca = PCA(.95) #95% of the variance is retained\n",
    "# x1 = pca.fit_transform(x1)\n",
    "# x1 = pd.DataFrame(data=x1)"
   ]
  },
  {
   "cell_type": "code",
   "execution_count": 32,
   "id": "e39e3d47",
   "metadata": {},
   "outputs": [],
   "source": [
    "# pca_expl = pca.explained_variance_ratio_.round(3) # how much variance exlains each PCA column\n",
    "# pca_expl"
   ]
  },
  {
   "cell_type": "code",
   "execution_count": 33,
   "id": "efd92d7f",
   "metadata": {},
   "outputs": [],
   "source": [
    "x_train1, x_test1, y_train1, y_test1 = train_test_split(x1, y1, test_size=0.25, random_state=7)"
   ]
  },
  {
   "cell_type": "code",
   "execution_count": 34,
   "id": "1c50e573",
   "metadata": {},
   "outputs": [],
   "source": [
    "#instantiate RandomForestClassifier()\n",
    "model3 = RandomForestClassifier(n_estimators=300, max_depth=10, min_samples_leaf=1, min_samples_split=2, \n",
    "                                bootstrap=True, criterion='gini')\n",
    "\n",
    "#fit the classification\n",
    "model3.fit(x_train1, np.ravel(y_train1))\n",
    "\n",
    "#Predict on test\n",
    "y_pred3 = model3.predict(x_test1)"
   ]
  },
  {
   "cell_type": "code",
   "execution_count": 35,
   "id": "4815ca03",
   "metadata": {},
   "outputs": [
    {
     "data": {
      "text/plain": [
       "0.74"
      ]
     },
     "execution_count": 35,
     "metadata": {},
     "output_type": "execute_result"
    }
   ],
   "source": [
    "round(f1_score(y_test1, y_pred3, average='macro'),2)"
   ]
  },
  {
   "cell_type": "markdown",
   "id": "f5b13762",
   "metadata": {},
   "source": [
    "Luego de probar con diferentes técnicas de ingenieria de variables (feature engineer) no se consigue aumentar el f1_score.\n",
    "\n",
    "Finalmente haremos la clasificación de los datos presentes en el archivo jm_X_test.cvs y la guardaremos en el archivo test_pred.csv:"
   ]
  },
  {
   "cell_type": "code",
   "execution_count": 36,
   "id": "b7236ae2",
   "metadata": {},
   "outputs": [],
   "source": [
    "erupciones_predict = pd.read_csv('jm_X_test.csv')"
   ]
  },
  {
   "cell_type": "code",
   "execution_count": 39,
   "id": "12a8c72e",
   "metadata": {},
   "outputs": [],
   "source": [
    "erupciones_predict_pred = model2.predict(erupciones_predict)"
   ]
  },
  {
   "cell_type": "code",
   "execution_count": 40,
   "id": "3cf53b0d",
   "metadata": {
    "scrolled": true
   },
   "outputs": [],
   "source": [
    "pd.DataFrame(erupciones_predict_pred, columns=['test_predicted']).to_csv(\"test_pred.csv\", index=None)"
   ]
  }
 ],
 "metadata": {
  "kernelspec": {
   "display_name": "Python 3 (ipykernel)",
   "language": "python",
   "name": "python3"
  },
  "language_info": {
   "codemirror_mode": {
    "name": "ipython",
    "version": 3
   },
   "file_extension": ".py",
   "mimetype": "text/x-python",
   "name": "python",
   "nbconvert_exporter": "python",
   "pygments_lexer": "ipython3",
   "version": "3.9.12"
  }
 },
 "nbformat": 4,
 "nbformat_minor": 5
}
